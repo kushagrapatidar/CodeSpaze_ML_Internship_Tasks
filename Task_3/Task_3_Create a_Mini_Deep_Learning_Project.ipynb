{
  "cells": [
    {
      "cell_type": "markdown",
      "metadata": {
        "id": "7aJUhprrmsue"
      },
      "source": [
        "# **Create a Mini Deep Learning Project**"
      ]
    },
    {
      "cell_type": "markdown",
      "metadata": {
        "id": "AlGBEx_bokWm"
      },
      "source": [
        "# **Import the necessary python libraries and install pre-requisites**"
      ]
    },
    {
      "cell_type": "code",
      "execution_count": 2,
      "metadata": {
        "id": "AFQaRahNZg6I"
      },
      "outputs": [],
      "source": [
        "# Library for Tensorflow Implementation\n",
        "import tensorflow as tf\n",
        "\n",
        "# Tensorflow Model Library\n",
        "from tensorflow.keras import layers, models\n",
        "\n",
        "# Visulaization Library\n",
        "import matplotlib.pyplot as plt"
      ]
    },
    {
      "cell_type": "markdown",
      "metadata": {
        "id": "2KGNn5TnbY3O"
      },
      "source": [
        "# **Step 1: Build the Feedforward Neural Network**\n"
      ]
    },
    {
      "cell_type": "markdown",
      "metadata": {
        "id": "bfABH8lzb7Gn"
      },
      "source": [
        "A **Sequential** model was utilized to create a basic feedforward neural network for classifying handwritten digits from the MNIST dataset."
      ]
    },
    {
      "cell_type": "code",
      "execution_count": 3,
      "metadata": {
        "colab": {
          "base_uri": "https://localhost:8080/"
        },
        "id": "wDwuUZRscCED",
        "outputId": "12d084f2-dec3-48c5-a0b4-0301a69e5fb7"
      },
      "outputs": [
        {
          "name": "stderr",
          "output_type": "stream",
          "text": [
            "c:\\Users\\kusha\\AppData\\Local\\Programs\\Python\\Python312\\Lib\\site-packages\\keras\\src\\layers\\reshaping\\flatten.py:37: UserWarning: Do not pass an `input_shape`/`input_dim` argument to a layer. When using Sequential models, prefer using an `Input(shape)` object as the first layer in the model instead.\n",
            "  super().__init__(**kwargs)\n"
          ]
        }
      ],
      "source": [
        "model = models.Sequential([\n",
        "    layers.Flatten(input_shape=(28, 28)),\n",
        "    layers.Dense(128, activation='relu'),\n",
        "    layers.Dense(10, activation='softmax')\n",
        "])"
      ]
    },
    {
      "cell_type": "code",
      "execution_count": 4,
      "metadata": {
        "id": "-iEhf9vTfm9r"
      },
      "outputs": [],
      "source": [
        "# Compile the model\n",
        "model.compile(optimizer='adam', loss='sparse_categorical_crossentropy', metrics=['accuracy'])"
      ]
    },
    {
      "cell_type": "markdown",
      "metadata": {
        "id": "BHN1nxjrmqa6"
      },
      "source": [
        "# **Step 2: Choose and load a Dataset**\n"
      ]
    },
    {
      "cell_type": "markdown",
      "metadata": {
        "id": "Df-1zO-ZuDez"
      },
      "source": [
        "* **Dataset: MNIST**, which consists of 70,000 images of handwritten digits (0-9).\n",
        "* **Availability:** The MNIST dataset is readily available in both TensorFlow and PyTorch libraries, making it easy to load and preprocess.\n",
        "\n",
        "\n"
      ]
    },
    {
      "cell_type": "code",
      "execution_count": 5,
      "metadata": {
        "id": "Qiv_vcvYbH5E"
      },
      "outputs": [
        {
          "name": "stdout",
          "output_type": "stream",
          "text": [
            "Downloading data from https://storage.googleapis.com/tensorflow/tf-keras-datasets/mnist.npz\n",
            "\u001b[1m11490434/11490434\u001b[0m \u001b[32m━━━━━━━━━━━━━━━━━━━━\u001b[0m\u001b[37m\u001b[0m \u001b[1m7s\u001b[0m 1us/step\n"
          ]
        }
      ],
      "source": [
        "mnist = tf.keras.datasets.mnist\n",
        "(x_train, y_train), (x_test, y_test) = mnist.load_data()\n",
        "x_train, x_test = x_train / 255.0, x_test / 255.0  # Normalize data"
      ]
    },
    {
      "cell_type": "markdown",
      "metadata": {
        "id": "p9v5Xowxu2Ve"
      },
      "source": [
        "# **Step 3: Train the Model**"
      ]
    },
    {
      "cell_type": "markdown",
      "metadata": {
        "id": "ynsnAQq0u-04"
      },
      "source": [
        "Now we can train our Sequential Model:"
      ]
    },
    {
      "cell_type": "code",
      "execution_count": 6,
      "metadata": {
        "colab": {
          "base_uri": "https://localhost:8080/"
        },
        "id": "o-YE_Qx9dNor",
        "outputId": "e26821f1-68a4-4a7a-d9fb-c574de9e10c1"
      },
      "outputs": [
        {
          "name": "stdout",
          "output_type": "stream",
          "text": [
            "Epoch 1/5\n",
            "\u001b[1m1875/1875\u001b[0m \u001b[32m━━━━━━━━━━━━━━━━━━━━\u001b[0m\u001b[37m\u001b[0m \u001b[1m6s\u001b[0m 2ms/step - accuracy: 0.8780 - loss: 0.4311\n",
            "Epoch 2/5\n",
            "\u001b[1m1875/1875\u001b[0m \u001b[32m━━━━━━━━━━━━━━━━━━━━\u001b[0m\u001b[37m\u001b[0m \u001b[1m3s\u001b[0m 2ms/step - accuracy: 0.9657 - loss: 0.1182\n",
            "Epoch 3/5\n",
            "\u001b[1m1875/1875\u001b[0m \u001b[32m━━━━━━━━━━━━━━━━━━━━\u001b[0m\u001b[37m\u001b[0m \u001b[1m3s\u001b[0m 2ms/step - accuracy: 0.9770 - loss: 0.0780\n",
            "Epoch 4/5\n",
            "\u001b[1m1875/1875\u001b[0m \u001b[32m━━━━━━━━━━━━━━━━━━━━\u001b[0m\u001b[37m\u001b[0m \u001b[1m4s\u001b[0m 2ms/step - accuracy: 0.9823 - loss: 0.0584\n",
            "Epoch 5/5\n",
            "\u001b[1m1875/1875\u001b[0m \u001b[32m━━━━━━━━━━━━━━━━━━━━\u001b[0m\u001b[37m\u001b[0m \u001b[1m3s\u001b[0m 2ms/step - accuracy: 0.9861 - loss: 0.0446\n"
          ]
        }
      ],
      "source": [
        "# Train the model\n",
        "history = model.fit(x_train, y_train, epochs=5)"
      ]
    },
    {
      "cell_type": "code",
      "execution_count": 7,
      "metadata": {
        "colab": {
          "base_uri": "https://localhost:8080/"
        },
        "id": "oLAIa_4YjWB6",
        "outputId": "4c49b65d-6188-4ac8-8eba-4aea6b0fe6c5"
      },
      "outputs": [
        {
          "name": "stderr",
          "output_type": "stream",
          "text": [
            "WARNING:absl:You are saving your model as an HDF5 file via `model.save()` or `keras.saving.save_model(model)`. This file format is considered legacy. We recommend using instead the native Keras format, e.g. `model.save('my_model.keras')` or `keras.saving.save_model(model, 'my_model.keras')`. \n"
          ]
        }
      ],
      "source": [
        "# Save the model\n",
        "model.save('mnist_model.h5')"
      ]
    },
    {
      "cell_type": "markdown",
      "metadata": {
        "id": "aTPP0oLndZYR"
      },
      "source": [
        "# **Step 4: Evaluate Model Performance**"
      ]
    },
    {
      "cell_type": "markdown",
      "metadata": {
        "id": "nHSccezgdcrw"
      },
      "source": [
        "We will evaluate the model using **accuracy** and **loss**."
      ]
    },
    {
      "cell_type": "code",
      "execution_count": 10,
      "metadata": {
        "colab": {
          "base_uri": "https://localhost:8080/"
        },
        "id": "jFNowACRgrrp",
        "outputId": "e77d25df-f6ba-43c5-9c85-39ba4c895edc"
      },
      "outputs": [
        {
          "name": "stdout",
          "output_type": "stream",
          "text": [
            "\u001b[1m313/313\u001b[0m \u001b[32m━━━━━━━━━━━━━━━━━━━━\u001b[0m\u001b[37m\u001b[0m \u001b[1m0s\u001b[0m 1ms/step - accuracy: 0.9723 - loss: 0.0884\n",
            "Test accuracy: 0.9760000109672546\n",
            "Test loss: 0.07449647039175034\n"
          ]
        }
      ],
      "source": [
        "# Evaluate the model\n",
        "test_loss, test_acc = model.evaluate(x_test, y_test)\n",
        "print(f'Test accuracy: {test_acc}')\n",
        "print(f'Test loss: {test_loss}')"
      ]
    },
    {
      "cell_type": "markdown",
      "metadata": {
        "id": "PDlLyUgGg1Hc"
      },
      "source": [
        "# **Step 5: Visualize the Learning Process**"
      ]
    },
    {
      "cell_type": "markdown",
      "metadata": {
        "id": "VdAvrgvjhBmc"
      },
      "source": [
        "**Loss Curves and Accuracy:** Now visualize the training process by plotting loss and accuracy curves using Matplotlib."
      ]
    },
    {
      "cell_type": "code",
      "execution_count": 9,
      "metadata": {
        "colab": {
          "base_uri": "https://localhost:8080/",
          "height": 472
        },
        "id": "pRnCN_shhb05",
        "outputId": "841e34b9-0d33-4dd8-9d50-a0e16588e03a"
      },
      "outputs": [
        {
          "data": {
            "image/png": "[encoded data removed]",
            "text/plain": [
              "<Figure size 640x480 with 1 Axes>"
            ]
          },
          "metadata": {},
          "output_type": "display_data"
        }
      ],
      "source": [
        "plt.plot(history.history['loss'], label='loss')\n",
        "plt.plot(history.history['accuracy'], label='accuracy')\n",
        "plt.title('Model Loss and Accuracy')\n",
        "plt.xlabel('Epoch')\n",
        "plt.ylabel('Value')\n",
        "plt.legend()\n",
        "plt.show()"
      ]
    }
  ],
  "metadata": {
    "colab": {
      "collapsed_sections": [
        "AlGBEx_bokWm",
        "2KGNn5TnbY3O",
        "BHN1nxjrmqa6",
        "YdPdn1CSn2HS",
        "p9v5Xowxu2Ve",
        "aTPP0oLndZYR",
        "-f6Fy7kweF5k"
      ],
      "provenance": []
    },
    "kernelspec": {
      "display_name": "Python 3",
      "name": "python3"
    },
    "language_info": {
      "codemirror_mode": {
        "name": "ipython",
        "version": 3
      },
      "file_extension": ".py",
      "mimetype": "text/x-python",
      "name": "python",
      "nbconvert_exporter": "python",
      "pygments_lexer": "ipython3",
      "version": "3.12.4"
    }
  },
  "nbformat": 4,
  "nbformat_minor": 0
}
